{
 "cells": [
  {
   "cell_type": "markdown",
   "metadata": {},
   "source": [
    "# Lalamove"
   ]
  },
  {
   "cell_type": "code",
   "execution_count": 24,
   "metadata": {},
   "outputs": [],
   "source": [
    "import pandas as pd\n",
    "\n",
    "df1 = pd.read_excel(r\"C:\\Users\\tammy\\March.xlsx\")\n",
    "df1columns = pd.DataFrame(df1, columns= [\"Partner Code\"])\n",
    "df2 = pd.read_excel(r\"C:\\Users\\tammy\\maret.xlsx\")\n",
    "df2columns = pd.DataFrame(df2, columns= [\"Partner Code\",\"po_no\",\"total_amount\",\"payment\"]) #Ini untuk mengecek List Kolom pada File Wehelpyou\n",
    "f = pd.merge(df1columns, df2columns, on='Partner Code', how='left', indicator='Lokasi')\n",
    "#f2 = pd.merge(df1columns, df2columns, on='AWB', how='right', indicator='Lokasi')\n",
    " \n",
    "f.to_excel('marchlalamove.xlsx')\n",
    "#print(df2columns)"
   ]
  },
  {
   "cell_type": "markdown",
   "metadata": {},
   "source": [
    "# Borzo"
   ]
  },
  {
   "cell_type": "code",
   "execution_count": null,
   "metadata": {},
   "outputs": [],
   "source": []
  },
  {
   "cell_type": "code",
   "execution_count": 1,
   "metadata": {},
   "outputs": [],
   "source": [
    "import pandas as pd\n",
    "\n",
    "df1 = pd.read_excel(r\"C:\\Users\\tammy\\Rincian Pengiriman WeHelpYou Periode 11 - 20 Maret 2022.xlsx\")\n",
    "#df1columns = pd.DataFrame(df1, columns= [\"order_date\",\"order_id\",\"client_order_id\",\"matter\",\"user_id\",\"note\",\"client_name\",\"address\",\"note\",\"contact_persone\",\"payment_method\",\"payment\",\"finish_datetime\",\"courier_id\",\"courier_name\",\"distance\"])\n",
    "df2 = pd.read_excel(r\"C:\\Users\\tammy\\borzo 11 -20 maret.xlsx\")\n",
    "#df2columns = pd.DataFrame(df2, columns= [\"order_id\",\"po_no\",\"service\",\"total_amount\",\"payment\",\"status\",\"weight\",\"distance\",\"date\",\"origin\"]) #Ini untuk mengecek List Kolom pada File Wehelpyou\n",
    "f = pd.merge(df1, df2, on='order_id', how='left')\n",
    "#f2 = pd.merge(df1columns, df2columns, on='AWB', how='right', indicator='Lokasi')\n",
    " \n",
    "f.to_excel('WHY X Borzo 11 - 20 Maret 2022.xlsx')\n",
    "#print(df1)"
   ]
  },
  {
   "cell_type": "markdown",
   "metadata": {},
   "source": [
    "# Rara"
   ]
  },
  {
   "cell_type": "code",
   "execution_count": 18,
   "metadata": {},
   "outputs": [],
   "source": [
    "import pandas as pd\n",
    "\n",
    "df1 = pd.read_excel(r\"C:\\Users\\tammy\\Data December - We Help You.xlsx\", sheet_name = \"RAW RARA\")\n",
    "#df1columns = pd.DataFrame(df1, columns= [\"order_date\",\"order_id\",\"client_order_id\",\"matter\",\"user_id\",\"note\",\"client_name\",\"address\",\"note\",\"contact_persone\",\"payment_method\",\"payment\",\"finish_datetime\",\"courier_id\",\"courier_name\",\"distance\"])\n",
    "df2 = pd.read_excel(r\"C:\\Users\\tammy\\Rara Nov 21.xlsx\")\n",
    "#df2columns = pd.DataFrame(df2, columns= [\"order_id\",\"po_no\",\"service\",\"total_amount\",\"payment\",\"status\",\"weight\",\"distance\",\"date\",\"origin\"]) #Ini untuk mengecek List Kolom pada File Wehelpyou\n",
    "f = pd.merge(df1, df2, on='Tracking No.', how='left')\n",
    "#f2 = pd.merge(df1columns, df2columns, on='AWB', how='right', indicator='Lokasi')\n",
    " \n",
    "f.to_excel('WHY X Rara 01 - 31 Desember 2021.xlsx')\n",
    "#print(df1)"
   ]
  },
  {
   "cell_type": "markdown",
   "metadata": {},
   "source": [
    "# JNE"
   ]
  },
  {
   "cell_type": "code",
   "execution_count": 3,
   "metadata": {},
   "outputs": [],
   "source": [
    "import pandas as pd\n",
    "\n",
    "df1 = pd.read_excel(r\"C:\\Users\\tammy\\SOLUSI LAYANAN DIGITAL PT(1).xlsx\")\n",
    "#df1columns = pd.DataFrame(df1, columns= [\"AWB\",\"ID_ACCOUNT\",\"SHIPPER_NAME\",\"CONSIGNEE_NAME\",\"ADDRESS\",\"CONTACT\",\"NOTELP\",\"NOREF\",\"ORIGIN\",\"DEST\",\"3 LC\",\"NAMA KAB/KOTA 2\",\"REGIONAL\",\"ZONA\",\"SERVICE\",\"QTY\",\"WEIGHT\",\"GOODS_DESCR\",\"GOODS_VALUE\",\"INSURANCE_VALUE(+)\",\"STATUS_POD\"])# ATTEMPT\",\"RESULT 1# Attempt\",\"Date 2nd Attempt\",\"RESULT 2nd Attempt\",\"Date 3nd Attempt\",\"RESULT 3rd Attempt\",\"Date Real Pickup\",\"Coding Status\",\"Final Status\"])\n",
    "df2 = pd.read_excel(r\"C:\\Users\\tammy\\jne feb 22.xlsx\")\n",
    "#df2columns = pd.DataFrame(df2, columns= [\"AWB\",\"po_no\",\"service\",\"total_amount\",\"payment\",\"status\",\"weight\",\"distance\",\"date\",\"origin\", \"destination\"]) #Ini untuk mengecek List Kolom pada File Wehelpyou\n",
    "f = pd.merge(df1, df2, on='AWB', how='left', indicator='Lokasi')\n",
    "#f2 = pd.merge(df1columns, df2columns, on='AWB', how='right', indicator='Lokasi')\n",
    "\n",
    "f.to_excel('WHY X JNE 01 - 28 Februari 2022.xlsx')\n",
    "#print(df2)"
   ]
  },
  {
   "cell_type": "markdown",
   "metadata": {},
   "source": [
    "# NINJA"
   ]
  },
  {
   "cell_type": "code",
   "execution_count": 2,
   "metadata": {},
   "outputs": [],
   "source": [
    "import pandas as pd\n",
    "\n",
    "df1 = pd.read_excel(r\"C:\\Users\\tammy\\INVNVAM0020134119 - PT Solusi Layanan Digital (Corp DS) - SO.xlsx\")\n",
    "#df1columns = pd.DataFrame(df1, columns= [\"AWB\",\"ID_ACCOUNT\",\"SHIPPER_NAME\",\"CONSIGNEE_NAME\",\"ADDRESS\",\"CONTACT\",\"NOTELP\",\"NOREF\",\"ORIGIN\",\"DEST\",\"3 LC\",\"NAMA KAB/KOTA 2\",\"REGIONAL\",\"ZONA\",\"SERVICE\",\"QTY\",\"WEIGHT\",\"GOODS_DESCR\",\"GOODS_VALUE\",\"INSURANCE_VALUE(+)\",\"STATUS_POD\"])# ATTEMPT\",\"RESULT 1# Attempt\",\"Date 2nd Attempt\",\"RESULT 2nd Attempt\",\"Date 3nd Attempt\",\"RESULT 3rd Attempt\",\"Date Real Pickup\",\"Coding Status\",\"Final Status\"])\n",
    "df2 = pd.read_excel(r\"C:\\Users\\tammy\\Ninja feb.xlsx\")\n",
    "#df2columns = pd.DataFrame(df2, columns= [\"AWB\",\"po_no\",\"service\",\"total_amount\",\"payment\",\"status\",\"weight\",\"distance\",\"date\",\"origin\", \"destination\"]) #Ini untuk mengecek List Kolom pada File Wehelpyou\n",
    "f = pd.merge(df1, df2, on='Tracking ID', how='left')\n",
    "#f2 = pd.merge(df1columns, df2columns, on='AWB', how='right', indicator='Lokasi')\n",
    "\n",
    "f.to_excel('WHY X Ninja 01 - 28 Februari.xlsx')\n",
    "#print(df2)"
   ]
  },
  {
   "cell_type": "markdown",
   "metadata": {},
   "source": [
    "# PAXEL"
   ]
  },
  {
   "cell_type": "code",
   "execution_count": 2,
   "metadata": {},
   "outputs": [],
   "source": [
    "import pandas as pd\n",
    "\n",
    "df1 = pd.read_excel(r\"C:\\Users\\tammy\\Pre Invoice We Help You Feb 2022.xlsx\")\n",
    "#df1columns = pd.DataFrame(df1, columns= [\"AWB\",\"ID_ACCOUNT\",\"SHIPPER_NAME\",\"CONSIGNEE_NAME\",\"ADDRESS\",\"CONTACT\",\"NOTELP\",\"NOREF\",\"ORIGIN\",\"DEST\",\"3 LC\",\"NAMA KAB/KOTA 2\",\"REGIONAL\",\"ZONA\",\"SERVICE\",\"QTY\",\"WEIGHT\",\"GOODS_DESCR\",\"GOODS_VALUE\",\"INSURANCE_VALUE(+)\",\"STATUS_POD\"])# ATTEMPT\",\"RESULT 1# Attempt\",\"Date 2nd Attempt\",\"RESULT 2nd Attempt\",\"Date 3nd Attempt\",\"RESULT 3rd Attempt\",\"Date Real Pickup\",\"Coding Status\",\"Final Status\"])\n",
    "df2 = pd.read_excel(r\"C:\\Users\\tammy\\paxel feb.xlsx\")\n",
    "#df2columns = pd.DataFrame(df2, columns= [\"AWB\",\"po_no\",\"service\",\"total_amount\",\"payment\",\"status\",\"weight\",\"distance\",\"date\",\"origin\", \"destination\"]) #Ini untuk mengecek List Kolom pada File Wehelpyou\n",
    "f = pd.merge(df1, df2, on='shipment_code', how='left', indicator='Lokasi')\n",
    "#f2 = pd.merge(df1columns, df2columns, on='AWB', how='right', indicator='Lokasi')\n",
    "\n",
    "f.to_excel('WHY X Paxel 01 - 28 Februari 2022.xlsx')\n",
    "#print(df1)"
   ]
  },
  {
   "cell_type": "markdown",
   "metadata": {},
   "source": [
    "# SiCepat"
   ]
  },
  {
   "cell_type": "code",
   "execution_count": 24,
   "metadata": {
    "scrolled": true
   },
   "outputs": [],
   "source": [
    "import pandas as pd\n",
    "\n",
    "df1 = pd.read_excel(r\"C:\\Users\\tammy\\manifestperresilengkap pt. solusi layanan d - februari.xlsx\",sheet_name=\"Gabung\")\n",
    "#df1columns = pd.DataFrame(df1, columns= [\"No Resi\",\"Tanggal\",\"Layanan\",\"Tujuan\",\"Penerima\",\"Berat\",\"Total Ongkir\",\"Packing/Ass\",\"Diskon\",\"Tax\",\"Total\"])\n",
    "df2 = pd.read_excel(r\"C:\\Users\\tammy\\sicepat feb 22.xlsx\")\n",
    "#df2columns = pd.DataFrame(df2, columns= [\"No Resi\",\"po_no\"])#\"service\",\"total_amount\",\"payment\",\"status\",\"weight\",\"distance\",\"date\",\"origin\", \"destination\"])  #Ini untuk mengecek List Kolom pada File Wehelpyou\n",
    "f = pd.merge(df1, df2, on='No Resi', how='left')\n",
    "\n",
    "f.to_excel('WHY X Sicepat 01 - 28 Februari 2022.xlsx')\n",
    "#print(df2)"
   ]
  },
  {
   "cell_type": "markdown",
   "metadata": {},
   "source": [
    "# WestBike"
   ]
  },
  {
   "cell_type": "code",
   "execution_count": 15,
   "metadata": {},
   "outputs": [],
   "source": [
    "import pandas as pd\n",
    "\n",
    "df1 = pd.read_excel(r\"C:\\Users\\tammy\\Delivery Recap - WeHelpYou - Feb '22.xlsx\")\n",
    "#df1columns = pd.DataFrame(df1, columns= [\"TRACKING NUMBER\",\"STATUS\",\"MERCHANT\",\"ORDER TIME\",\"SERVICE\",\"SENDER PHONE\",\"PICKUP ADDRESS\",\"DESTINATION ADDRESS\",\"RECEIVER NAME\",\"RECEIVER PHONE\",\"RECEIVER EMAIL\",\"RECEIVED BY\",\"ARRIVAL TIME\",\"COURIER ALL MILE\",\"COURIER FIRST MILE\",\"COURIER LAST MILE\",\"COURIER INTERHUB\",\"DELIVERY FEE\"])\n",
    "df2 = pd.read_excel(r\"C:\\Users\\tammy\\wsb feb 22.xlsx\")\n",
    "#df2columns = pd.DataFrame(df2, columns= [\"TRACKING NUMBER\",\"po_no\",\"service\",\"total_amount\",\"payment\",\"status\",\"weight\",\"distance\",\"date\",\"origin\"]) #Ini untuk mengecek List Kolom pada File Wehelpyou\n",
    "f = pd.merge(df1, df2, on='TRACKING NUMBER', how='left', indicator='Lokasi')\n",
    "#f2 = pd.merge(df1, df2, on='TRACKING NUMBER', how='right', indicator='Lokasi')\n",
    " \n",
    "f.to_excel('WHY X WestBike 01 - 28 Februari 2022.xlsx')\n",
    "#print(df1)"
   ]
  },
  {
   "cell_type": "markdown",
   "metadata": {},
   "source": [
    "# TIKI"
   ]
  },
  {
   "cell_type": "code",
   "execution_count": 1,
   "metadata": {},
   "outputs": [],
   "source": [
    "import pandas as pd\n",
    "\n",
    "df1 = pd.read_excel(r\"C:\\Users\\tammy\\SOLUSI LAYANAN DIGITAL PERIODE 01-28 FEBRUARI 2022.xlsx\", sheet_name=\"Periode Februari 2022\")\n",
    "#df1columns = pd.DataFrame(df1, columns= [\"Customer ID\",\"Track No\",\"PU No\",\"Ref No\",\"Date\",\"Type\",\"Dest Code\",\"Destination\",\"Consignee\",\"Prod\",\"Pcs\",\"Volume\",\"V Wg\",\"Wg\",\"F.Charge\",\"Surcharge\",\"Packing\",\"Insurance\",\"Total Charge\",\"Contents\"])\n",
    "df2 = pd.read_excel(r\"C:\\Users\\tammy\\tiki feb 22.xlsx\")\n",
    "#df2columns = pd.DataFrame(df2, columns= [\"Ref No\",\"po_no\",\"service\",\"total_amount\",\"payment\",\"status\",\"weight\",\"total_amount\",\"distance\",\"date\",\"origin\"]) #Ini untuk mengecek List Kolom pada File Wehelpyou\n",
    "f = pd.merge(df1, df2, on='Ref. #', how='left', indicator='Lokasi')\n",
    " \n",
    "f.to_excel('WHY X TIKI 01 - 28 Februari 2022.xlsx')\n",
    "#print(df1)"
   ]
  },
  {
   "cell_type": "markdown",
   "metadata": {},
   "source": [
    "# Grab"
   ]
  },
  {
   "cell_type": "code",
   "execution_count": 14,
   "metadata": {},
   "outputs": [],
   "source": [
    "import pandas as pd\n",
    "\n",
    "df1 = pd.read_excel(r\"C:\\Users\\tammy\\02. Proforma Invoice GE - WeHelpYou Feb 2022.xlsx\")\n",
    "#df1columns = pd.DataFrame(df1, columns= [\"ALHD\",\"JNE CODE\",\"JENIS LAYANAN\",\"DURASI TELAT PICKUP\"])\n",
    "df2 = pd.read_excel(r\"C:\\Users\\tammy\\Grab feb 22.xlsx\")\n",
    "#df2columns = pd.DataFrame(df2, columns= [\"ALHD\",\"origin\"]) #Ini untuk mengecek List Kolom pada File Wehelpyou\n",
    "f = pd.merge(df1, df2, on='Order Id', how='left', indicator='Lokasi')\n",
    "#f2 = pd.merge(df1columns, df2columns, on='AWB', how='right', indicator='Lokasi')\n",
    " \n",
    "f.to_excel('Grab X Wehelpyou 01 Januari - 28 februari 2022.xlsx')\n",
    "#print(df1)"
   ]
  },
  {
   "cell_type": "code",
   "execution_count": 1,
   "metadata": {
    "scrolled": true
   },
   "outputs": [
    {
     "ename": "NameError",
     "evalue": "name 'python' is not defined",
     "output_type": "error",
     "traceback": [
      "\u001b[1;31m---------------------------------------------------------------------------\u001b[0m",
      "\u001b[1;31mNameError\u001b[0m                                 Traceback (most recent call last)",
      "\u001b[1;32m<ipython-input-1-a4637bbefc43>\u001b[0m in \u001b[0;36m<module>\u001b[1;34m\u001b[0m\n\u001b[1;32m----> 1\u001b[1;33m \u001b[0mpython\u001b[0m \u001b[1;33m-\u001b[0m\u001b[1;33m-\u001b[0m\u001b[0mversion\u001b[0m\u001b[1;33m\u001b[0m\u001b[1;33m\u001b[0m\u001b[0m\n\u001b[0m",
      "\u001b[1;31mNameError\u001b[0m: name 'python' is not defined"
     ]
    }
   ],
   "source": [
    "python --version"
   ]
  },
  {
   "cell_type": "markdown",
   "metadata": {},
   "source": [
    "# Duplicate"
   ]
  },
  {
   "cell_type": "code",
   "execution_count": 10,
   "metadata": {},
   "outputs": [],
   "source": [
    "import pandas as pd\n",
    "import numpy as np\n",
    "\n",
    "df1 = pd.read_csv(r\"C:\\Users\\tammy\\api01-05.csv\")\n",
    "df1columns = pd.DataFrame(df1, columns= [\"order_id\",\"gosend_api_price\",\"help_discount\"])\n",
    "\n",
    "#df1columns = df1columns.drop_duplicates(subset='origin_location', keep=\"first\")\n",
    "#df1columns.to_csv('originuniquemei2020.csv')\n",
    "\n",
    "df2 = pd.read_csv(r\"C:\\Users\\tammy\\order1-5.csv\")\n",
    "df2columns = pd.DataFrame(df2, columns= [\"order_id\",\"gosend_code\",\"po_no\",\"service\",\"total_amount\",\"payment\",\"status\",\"date\"])\n",
    "\n",
    "f = pd.merge(df1columns, df2columns, on='order_id', how='left', indicator='Lokasi')\n",
    "\n",
    "#f1 = f.drop_duplicates(subset='detination_latitude', keep=\"first\")\n",
    "f.to_csv('februarigosend01-05.csv')\n",
    "#print(df2columns)"
   ]
  },
  {
   "cell_type": "code",
   "execution_count": 2,
   "metadata": {},
   "outputs": [],
   "source": [
    "import pandas as pd\n",
    "import numpy as np\n",
    "\n",
    "df1 = pd.read_csv(r\"C:\\Users\\tammy\\sql.csv\")\n",
    "#df1columns = pd.DataFrame(df1, columns= [\"long\",\"lat\",\"landmark\",\"location\",\"district\",\"city\",\"province\",\"zip_code\"])\n",
    "\n",
    "#df1columns = df1columns.drop_duplicates(subset='origin_location', keep=\"first\")\n",
    "#df1columns.to_csv('originuniquemei2020.csv')\n",
    "\n",
    "#df2 = pd.read_csv(r\"C:\\Users\\tammy\\destinationmei.csv\")\n",
    "#df2columns = pd.DataFrame(df2, columns= [\"detination_latitude\",\"destination_longitude\",\"location\",\"destination_district\"])\n",
    "\n",
    "#f = pd.merge(df1columns, df2columns, on='location', how='left', indicator='Lokasi')\n",
    "f = df1.drop_duplicates(subset='location', keep=\"first\")\n",
    "f.to_csv('2022.csv')\n",
    "#print(df1columns)"
   ]
  },
  {
   "cell_type": "code",
   "execution_count": 23,
   "metadata": {},
   "outputs": [],
   "source": [
    "import pandas as pd\n",
    "import numpy as np\n",
    "\n",
    "df1 = pd.read_csv(r\"C:\\Users\\tammy\\unique2020concat3.csv\")\n",
    "df1columns = pd.DataFrame(df1, columns= [\"origin_latitude\",\"origin_longitude\",\"location\",\"origin_district\",\"destination_latitude\",\"destination_longitude\",\"destination_district\"])\n",
    "\n",
    "#df1columns = df1columns.drop_duplicates(subset='origin_location', keep=\"first\")\n",
    "#df1columns.to_csv('originuniquemei2020.csv')\n",
    "\n",
    "df2 = pd.read_csv(r\"C:\\Users\\tammy\\destinationmei.csv\")\n",
    "df2columns = pd.DataFrame(df2, columns= [\"detination_latitude\",\"destination_longitude\",\"location\",\"destination_district\"])\n",
    "\n",
    "#f = pd.merge(df1columns, df2columns, on='location', how='left', indicator='Lokasi')\n",
    "f = df1columns.drop_duplicates(subset='location')\n",
    "\n",
    "f.to_csv('unique2021fix.csv')\n",
    "#print(f)"
   ]
  },
  {
   "cell_type": "code",
   "execution_count": 2,
   "metadata": {},
   "outputs": [],
   "source": [
    "import pandas as pd\n",
    "import numpy as np\n",
    "df1 = pd.read_excel(r\"C:\\Users\\tammy\\lokasi 2022.xlsx\")\n",
    "#df1columns = pd.DataFrame(df1, columns= [\"long\",\"lat\",\"landmark\",\"location\",\"district\",\"city\",\"province\",\"zip_code\"])\n",
    "\n",
    "#df1columns = df1columns.drop_duplicates(subset='origin_location', keep=\"first\")\n",
    "#df1columns.to_csv('originuniquemei2020.csv')\n",
    "\n",
    "#df2 = pd.read_csv(r\"C:\\Users\\tammy\\destinationmei.csv\")\n",
    "#df2columns = pd.DataFrame(df2, columns= [\"detination_latitude\",\"destination_longitude\",\"location\",\"destination_district\"])\n",
    "\n",
    "#f = pd.merge(df1columns, df2columns, on='location', how='left', indicator='Lokasi')\n",
    "f = df1.drop_duplicates(subset='latitude', keep='first')\n",
    "\n",
    "f.to_excel('2022.xlsx')\n",
    "#print(df1columns)"
   ]
  },
  {
   "cell_type": "code",
   "execution_count": 21,
   "metadata": {
    "scrolled": true
   },
   "outputs": [],
   "source": [
    "import pandas, sys\n",
    "import pandas as pd\n",
    "\n",
    "\n",
    "a = pd.read_excel(r\"C:\\Users\\tammy\\March.xlsx\")\n",
    "b = pd.read_excel(r\"C:\\Users\\tammy\\maret.xlsx\")\n",
    "\n",
    "f = a.merge(b, on='Partner Code')\n",
    "\n",
    "f.to_excel('maretfix.xlsx', index=False)\n",
    "#print(a)"
   ]
  },
  {
   "cell_type": "markdown",
   "metadata": {},
   "source": [
    "Satuin 2 File"
   ]
  },
  {
   "cell_type": "code",
   "execution_count": null,
   "metadata": {},
   "outputs": [],
   "source": []
  },
  {
   "cell_type": "code",
   "execution_count": 14,
   "metadata": {},
   "outputs": [],
   "source": [
    "import pandas as pd\n",
    "import numpy as np\n",
    "df1 = pd.read_excel(r\"C:\\Users\\tammy\\tiki15.xlsx\")\n",
    "#df1columns = pd.DataFrame(df1, columns= [\"long\",\"lat\",\"landmark\",\"location\",\"district\",\"city\",\"province\",\"zip_code\"])\n",
    "df2 = pd.read_excel(r\"C:\\Users\\tammy\\tiki31.xlsx\")\n",
    "#df2columns = pd.DataFrame(df1, columns= [\"long\",\"lat\",\"landmark\",\"location\",\"district\",\"city\",\"province\",\"zip_code\"])\n",
    "\n",
    "f = pd.concat([df1, df2])\n",
    "f.to_excel('tikiOctober2021.xlsx')\n",
    "\n",
    "#print(df1)"
   ]
  },
  {
   "cell_type": "markdown",
   "metadata": {},
   "source": [
    "# RECON DB"
   ]
  },
  {
   "cell_type": "code",
   "execution_count": 68,
   "metadata": {},
   "outputs": [],
   "source": [
    "import pandas as pd\n",
    "\n",
    "df1 = pd.read_excel(r\"C:\\Users\\tammy\\18.xlsx\")\n",
    "#df1columns = pd.DataFrame(df1, columns= [\"ALHD\",\"JNE CODE\",\"JENIS LAYANAN\",\"DURASI TELAT PICKUP\"])\n",
    "df2 = pd.read_excel(r\"C:\\Users\\tammy\\18api.xlsx\")\n",
    "#df2columns = pd.DataFrame(df2, columns= [\"ALHD\",\"origin\"]) #Ini untuk mengecek List Kolom pada File Wehelpyou\n",
    "f = pd.merge(df1, df2, on='order_id', how='left', indicator='Lokasi')\n",
    "#f2 = pd.merge(df1columns, df2columns, on='AWB', how='right', indicator='Lokasi')\n",
    " \n",
    "f.to_excel('18 - 05 Shopeepay.xlsx')\n",
    "#print(df2)"
   ]
  },
  {
   "cell_type": "markdown",
   "metadata": {},
   "source": [
    "# Racon Settle"
   ]
  },
  {
   "cell_type": "code",
   "execution_count": 69,
   "metadata": {},
   "outputs": [],
   "source": [
    "import pandas as pd\n",
    "\n",
    "df1 = pd.read_excel(r\"C:\\Users\\tammy\\host_settlement_report_78_2021-05-18_part_1_of_1.xlsx\", sheet_name=\"settle\")\n",
    "#df1columns = pd.DataFrame(df1, columns= [\"ALHD\",\"JNE CODE\",\"JENIS LAYANAN\",\"DURASI TELAT PICKUP\"])\n",
    "df2 = pd.read_excel(r\"C:\\Users\\tammy\\18 - 05 Shopeepay.xlsx\")\n",
    "#df2columns = pd.DataFrame(df2, columns= [\"ALHD\",\"origin\"]) #Ini untuk mengecek List Kolom pada File Wehelpyou\n",
    "f = pd.merge(df1, df2, on='External reference ID', how='left', indicator='Lokasi')\n",
    "#f2 = pd.merge(df1columns, df2columns, on='AWB', how='right', indicator='Lokasi')\n",
    " \n",
    "f.to_excel('Settle 18 - 05 Shopeepay.xlsx', sheet_name=\"settle\")\n",
    "#print(df1)"
   ]
  },
  {
   "cell_type": "markdown",
   "metadata": {},
   "source": [
    "# RECON Refund"
   ]
  },
  {
   "cell_type": "code",
   "execution_count": 70,
   "metadata": {},
   "outputs": [],
   "source": [
    " import pandas as pd\n",
    "\n",
    "df1 = pd.read_excel(r\"C:\\Users\\tammy\\host_settlement_report_78_2021-05-18_part_1_of_1.xlsx\", sheet_name=\"refund\")\n",
    "#df1columns = pd.DataFrame(df1, columns= [\"ALHD\",\"JNE CODE\",\"JENIS LAYANAN\",\"DURASI TELAT PICKUP\"])\n",
    "df2 = pd.read_excel(r\"C:\\Users\\tammy\\Settle 18 - 05 Shopeepay.xlsx\")\n",
    "df2columns = pd.DataFrame(df2, columns= [\"External reference ID\",\"Transaction ID\",\"service\", \"total_amount\",\"payment\", \"status\", \"created_at\",\"markup_price\",\"service_fee\",\"wehelpyou_initial_price\"]) #Ini untuk mengecek List Kolom pada File Wehelpyou\n",
    "f = pd.merge(df1, df2columns, on='Transaction ID', how='left', indicator='Lokasi')\n",
    "#f2 = pd.merge(df1columns, df2columns, on='AWB', how='right', indicator='Lokasi')\n",
    " \n",
    "f.to_excel('Refund 18 - 05 Shopeepay.xlsx')\n",
    "#print(df1)"
   ]
  },
  {
   "cell_type": "code",
   "execution_count": null,
   "metadata": {},
   "outputs": [],
   "source": []
  },
  {
   "cell_type": "code",
   "execution_count": null,
   "metadata": {},
   "outputs": [],
   "source": []
  }
 ],
 "metadata": {
  "kernelspec": {
   "display_name": "Python 3",
   "language": "python",
   "name": "python3"
  },
  "language_info": {
   "codemirror_mode": {
    "name": "ipython",
    "version": 3
   },
   "file_extension": ".py",
   "mimetype": "text/x-python",
   "name": "python",
   "nbconvert_exporter": "python",
   "pygments_lexer": "ipython3",
   "version": "3.8.5"
  }
 },
 "nbformat": 4,
 "nbformat_minor": 4
}
